{
 "cells": [
  {
   "cell_type": "code",
   "execution_count": 1,
   "id": "e95fca11-ee7b-4d60-8ac1-2d74194c67cc",
   "metadata": {},
   "outputs": [],
   "source": [
    "#pip install numpy==1.26.4"
   ]
  },
  {
   "cell_type": "code",
   "execution_count": 2,
   "id": "b8e54ec8-b416-459d-983c-70e8b6ee5f07",
   "metadata": {},
   "outputs": [],
   "source": [
    "import numpy as np\n",
    "import pandas as pd\n",
    "import string\n",
    "import streamlit as st\n",
    "\n",
    "from sklearn.feature_extraction.text import TfidfVectorizer\n",
    "from sklearn.feature_extraction.text import CountVectorizer\n",
    "from sklearn.feature_extraction import _stop_words\n",
    "import nltk\n",
    "from nltk.stem import WordNetLemmatizer\n",
    "from nltk.stem import PorterStemmer\n",
    "from spellchecker import SpellChecker\n",
    "from nltk.corpus import wordnet\n",
    "\n",
    "from sklearn.model_selection import train_test_split, GridSearchCV\n",
    "from sklearn.naive_bayes import MultinomialNB\n",
    "from sklearn.linear_model import LogisticRegression\n",
    "from sklearn.svm import LinearSVC\n",
    "from sklearn.neighbors import KNeighborsClassifier\n",
    "from sklearn.tree import DecisionTreeClassifier\n",
    "from sklearn.ensemble import RandomForestClassifier\n",
    "from sklearn.ensemble import AdaBoostClassifier\n",
    "from sklearn.semi_supervised import SelfTrainingClassifier\n",
    "\n",
    "\n",
    "from sklearn.metrics import accuracy_score\n",
    "from sklearn.metrics import classification_report\n",
    "\n",
    "from sklearn.model_selection import GridSearchCV\n",
    "from sklearn import svm\n",
    "\n",
    "#import tensorflow as tf\n",
    "#from tensorflow.keras import layers, models, preprocessing # for text classification\n",
    "#from tensorflow.keras.preprocessing.text import Tokenizer\n",
    "#from gensim.models import Word2Vec, KeyedVectors"
   ]
  },
  {
   "cell_type": "code",
   "execution_count": 3,
   "id": "e54f0c46-812e-42d3-853f-497894467f56",
   "metadata": {},
   "outputs": [],
   "source": [
    "# digits and stopwords removal function. stemming and lemmatization can be done here as well\n",
    "\n",
    "stopwords = _stop_words.ENGLISH_STOP_WORDS\n",
    "lemmatizer = WordNetLemmatizer()\n",
    "stemmer = PorterStemmer()\n",
    "spell_check = SpellChecker(distance=1)\n",
    "\n",
    "def clean(doc): # doc is a string of text\n",
    "    #doc = \" \".join([lemmatizer.lemmatize(token) for token in doc.split()])\n",
    "    doc = \"\".join([char for char in doc if char not in string.punctuation and not char.isdigit()])\n",
    "    doc = \" \".join([token for token in doc.split() if token not in stopwords])\n",
    "    return doc\n",
    "\n",
    "def spell(doc):\n",
    "    doc = \" \".join([spell_check.correction(token) for token in doc.split() if spell_check.correction(token) is not None])\n",
    "    return doc\n",
    "    \n",
    "# stemming\n",
    "def stem(doc): # doc is a string of text\n",
    "    doc = \" \".join([stemmer.stem(token) for token in doc.split()])\n",
    "    return doc\n",
    "\n",
    "def lemmatize(doc): # doc is a string of text\n",
    "    doc = \" \".join([lemmatizer.lemmatize(token) for token in doc.split()])\n",
    "    return doc\n",
    "\n",
    "# combined all preprocessors \n",
    "def preprocessors(doc):\n",
    "    doc = spell(doc) # very slow\n",
    "    doc = clean(doc)\n",
    "    doc = lemmatize(doc)\n",
    "    doc = stem(doc)\n",
    "    return doc"
   ]
  },
  {
   "cell_type": "markdown",
   "id": "82d77f59-6281-4b56-9192-ba5e3d7a3e87",
   "metadata": {},
   "source": [
    "**Load data**"
   ]
  },
  {
   "cell_type": "code",
   "execution_count": 5,
   "id": "899486cb-ba03-40d8-b4e3-38aa700e561c",
   "metadata": {},
   "outputs": [],
   "source": [
    "# load training set\n",
    "mydata = pd.read_csv(\"incidents.csv\") #loading from the same directory as the notebook file.\n",
    "\n",
    "#mydata = pd.read_csv(\"incidents.csv\") #loading from the same directory as the notebook file.\n",
    "mydata[\"X\"] = mydata[\"X\"].str.lower()\n",
    "mydata = mydata.dropna()\n"
   ]
  },
  {
   "cell_type": "markdown",
   "id": "c5b88f51-dd5c-48b9-984d-b41d2c4ceb6d",
   "metadata": {},
   "source": [
    "**Random sample if neccessary**"
   ]
  },
  {
   "cell_type": "code",
   "execution_count": 7,
   "id": "19c865f1-96df-4b54-803e-31604670f606",
   "metadata": {},
   "outputs": [
    {
     "name": "stdout",
     "output_type": "stream",
     "text": [
      "(80, 3)\n"
     ]
    }
   ],
   "source": [
    "sample_size = 1000\n",
    "rows = mydata.shape[0] # get how many rows does mydata have\n",
    "\n",
    "# if rows is smaller than the sample size, then the sample size will be the number of rows.\n",
    "if rows < sample_size:\n",
    "    sample_size = rows\n",
    "    mydata = mydata.sample(n=sample_size, random_state=42)\n",
    "else:\n",
    "    mydata = mydata.sample(n=sample_size, random_state=42)\n",
    "    \n",
    "print(mydata.shape)"
   ]
  },
  {
   "cell_type": "markdown",
   "id": "2fe3704d-437c-4b1d-9dd0-e3e2918f8b29",
   "metadata": {},
   "source": [
    "**Show what it the data looks like after cleaning**"
   ]
  },
  {
   "cell_type": "code",
   "execution_count": 9,
   "id": "26ca7c74-6964-4270-bd6d-05427c513ba7",
   "metadata": {},
   "outputs": [],
   "source": [
    "X_col = mydata.X\n",
    "mydata[\"clean\"] = [clean(d) for d in X_col]\n",
    "clean_col = mydata.clean\n",
    "mydata[\"lemmatize\"] = [lemmatize(d) for d in clean_col] # here lammatization is applied first. but sometimes it depends. stemming can be applied first in specific cases.\n",
    "lemmatize_col = mydata.lemmatize\n",
    "mydata[\"stem\"] = [stem(d) for d in lemmatize_col] # we need to stem the clean data not the orginal one\n"
   ]
  },
  {
   "cell_type": "code",
   "execution_count": 10,
   "id": "7a2ddc1a-5d7f-4baa-a2ef-cc5641d3558d",
   "metadata": {},
   "outputs": [],
   "source": [
    "# alternatively we can use a function to do all the preprocessing at once\n",
    "\n",
    "mydata[\"all_preprocessors\"] = [preprocessors(d) for d in X_col]"
   ]
  },
  {
   "cell_type": "code",
   "execution_count": 11,
   "id": "67b41fd5-c24f-4016-a3da-196e0c3ac6fe",
   "metadata": {},
   "outputs": [
    {
     "data": {
      "text/html": [
       "<div>\n",
       "<style scoped>\n",
       "    .dataframe tbody tr th:only-of-type {\n",
       "        vertical-align: middle;\n",
       "    }\n",
       "\n",
       "    .dataframe tbody tr th {\n",
       "        vertical-align: top;\n",
       "    }\n",
       "\n",
       "    .dataframe thead th {\n",
       "        text-align: right;\n",
       "    }\n",
       "</style>\n",
       "<table border=\"1\" class=\"dataframe\">\n",
       "  <thead>\n",
       "    <tr style=\"text-align: right;\">\n",
       "      <th></th>\n",
       "      <th>X</th>\n",
       "      <th>y</th>\n",
       "      <th>y_1</th>\n",
       "      <th>clean</th>\n",
       "      <th>lemmatize</th>\n",
       "      <th>stem</th>\n",
       "      <th>all_preprocessors</th>\n",
       "    </tr>\n",
       "  </thead>\n",
       "  <tbody>\n",
       "    <tr>\n",
       "      <th>30</th>\n",
       "      <td>while the residents were on vacation, their ho...</td>\n",
       "      <td>Break and Enter</td>\n",
       "      <td>Unknown</td>\n",
       "      <td>residents vacation home broken door intruders ...</td>\n",
       "      <td>resident vacation home broken door intruder ra...</td>\n",
       "      <td>resid vacat home broken door intrud ransack in...</td>\n",
       "      <td>resid vacat home broken door intrud ransack in...</td>\n",
       "    </tr>\n",
       "    <tr>\n",
       "      <th>0</th>\n",
       "      <td>a man reported an assault near the downtown ar...</td>\n",
       "      <td>Assault</td>\n",
       "      <td>Knife</td>\n",
       "      <td>man reported assault near downtown area stated...</td>\n",
       "      <td>man reported assault near downtown area stated...</td>\n",
       "      <td>man report assault near downtown area state wa...</td>\n",
       "      <td>man report assault near downtown area state wa...</td>\n",
       "    </tr>\n",
       "    <tr>\n",
       "      <th>22</th>\n",
       "      <td>an attempted break-in was thwarted at a reside...</td>\n",
       "      <td>Break and Enter</td>\n",
       "      <td>Unknown</td>\n",
       "      <td>attempted breakin thwarted residence maple lan...</td>\n",
       "      <td>attempted breakin thwarted residence maple lan...</td>\n",
       "      <td>attempt breakin thwart resid mapl lane vigil n...</td>\n",
       "      <td>attempt thwart resid mapl lane vigil neighbor ...</td>\n",
       "    </tr>\n",
       "    <tr>\n",
       "      <th>31</th>\n",
       "      <td>in a quiet suburban neighborhood, a burglar br...</td>\n",
       "      <td>Break and Enter</td>\n",
       "      <td>Unknown</td>\n",
       "      <td>quiet suburban neighborhood burglar broke hous...</td>\n",
       "      <td>quiet suburban neighborhood burglar broke hous...</td>\n",
       "      <td>quiet suburban neighborhood burglar broke hous...</td>\n",
       "      <td>quiet suburban neighborhood burglar broke hous...</td>\n",
       "    </tr>\n",
       "    <tr>\n",
       "      <th>18</th>\n",
       "      <td>two individuals wearing masks entered a conven...</td>\n",
       "      <td>Robbery</td>\n",
       "      <td>Knife</td>\n",
       "      <td>individuals wearing masks entered convenience ...</td>\n",
       "      <td>individual wearing mask entered convenience st...</td>\n",
       "      <td>individu wear mask enter conveni store brandis...</td>\n",
       "      <td>individu wear mask enter conveni store brandis...</td>\n",
       "    </tr>\n",
       "    <tr>\n",
       "      <th>...</th>\n",
       "      <td>...</td>\n",
       "      <td>...</td>\n",
       "      <td>...</td>\n",
       "      <td>...</td>\n",
       "      <td>...</td>\n",
       "      <td>...</td>\n",
       "      <td>...</td>\n",
       "    </tr>\n",
       "    <tr>\n",
       "      <th>20</th>\n",
       "      <td>a home invasion was reported at a residence on...</td>\n",
       "      <td>Break and Enter</td>\n",
       "      <td>Unknown</td>\n",
       "      <td>home invasion reported residence oak street ho...</td>\n",
       "      <td>home invasion reported residence oak street ho...</td>\n",
       "      <td>home invas report resid oak street homeown ret...</td>\n",
       "      <td>home invas report resid oak street homeown ret...</td>\n",
       "    </tr>\n",
       "    <tr>\n",
       "      <th>60</th>\n",
       "      <td>a delivery van was broken into while making a ...</td>\n",
       "      <td>Theft from Auto</td>\n",
       "      <td>Unknown</td>\n",
       "      <td>delivery van broken making delivery residentia...</td>\n",
       "      <td>delivery van broken making delivery residentia...</td>\n",
       "      <td>deliveri van broken make deliveri residenti ne...</td>\n",
       "      <td>deliveri van broken make deliveri residenti ne...</td>\n",
       "    </tr>\n",
       "    <tr>\n",
       "      <th>71</th>\n",
       "      <td>a physical altercation occurred at a local par...</td>\n",
       "      <td>Assault</td>\n",
       "      <td>Physical Force</td>\n",
       "      <td>physical altercation occurred local park indiv...</td>\n",
       "      <td>physical altercation occurred local park indiv...</td>\n",
       "      <td>physic alterc occur local park individu involv...</td>\n",
       "      <td>physic alterc occur local park individu involv...</td>\n",
       "    </tr>\n",
       "    <tr>\n",
       "      <th>14</th>\n",
       "      <td>at a crowded concert, a dispute erupted betwee...</td>\n",
       "      <td>Assault</td>\n",
       "      <td>Knife</td>\n",
       "      <td>crowded concert dispute erupted concertgoers s...</td>\n",
       "      <td>crowded concert dispute erupted concertgoers s...</td>\n",
       "      <td>crowd concert disput erupt concertgo seat argu...</td>\n",
       "      <td>crowd concert disput erupt concertgo seat argu...</td>\n",
       "    </tr>\n",
       "    <tr>\n",
       "      <th>51</th>\n",
       "      <td>a resident reported a theft from their automob...</td>\n",
       "      <td>Theft from Auto</td>\n",
       "      <td>Unknown</td>\n",
       "      <td>resident reported theft automobile car parked ...</td>\n",
       "      <td>resident reported theft automobile car parked ...</td>\n",
       "      <td>resid report theft automobil car park hous thi...</td>\n",
       "      <td>resid report theft automobil car park hous thi...</td>\n",
       "    </tr>\n",
       "  </tbody>\n",
       "</table>\n",
       "<p>80 rows × 7 columns</p>\n",
       "</div>"
      ],
      "text/plain": [
       "                                                    X                y  \\\n",
       "30  while the residents were on vacation, their ho...  Break and Enter   \n",
       "0   a man reported an assault near the downtown ar...          Assault   \n",
       "22  an attempted break-in was thwarted at a reside...  Break and Enter   \n",
       "31  in a quiet suburban neighborhood, a burglar br...  Break and Enter   \n",
       "18  two individuals wearing masks entered a conven...          Robbery   \n",
       "..                                                ...              ...   \n",
       "20  a home invasion was reported at a residence on...  Break and Enter   \n",
       "60  a delivery van was broken into while making a ...  Theft from Auto   \n",
       "71  a physical altercation occurred at a local par...          Assault   \n",
       "14  at a crowded concert, a dispute erupted betwee...          Assault   \n",
       "51  a resident reported a theft from their automob...  Theft from Auto   \n",
       "\n",
       "               y_1                                              clean  \\\n",
       "30         Unknown  residents vacation home broken door intruders ...   \n",
       "0            Knife  man reported assault near downtown area stated...   \n",
       "22         Unknown  attempted breakin thwarted residence maple lan...   \n",
       "31         Unknown  quiet suburban neighborhood burglar broke hous...   \n",
       "18           Knife  individuals wearing masks entered convenience ...   \n",
       "..             ...                                                ...   \n",
       "20         Unknown  home invasion reported residence oak street ho...   \n",
       "60         Unknown  delivery van broken making delivery residentia...   \n",
       "71  Physical Force  physical altercation occurred local park indiv...   \n",
       "14           Knife  crowded concert dispute erupted concertgoers s...   \n",
       "51         Unknown  resident reported theft automobile car parked ...   \n",
       "\n",
       "                                            lemmatize  \\\n",
       "30  resident vacation home broken door intruder ra...   \n",
       "0   man reported assault near downtown area stated...   \n",
       "22  attempted breakin thwarted residence maple lan...   \n",
       "31  quiet suburban neighborhood burglar broke hous...   \n",
       "18  individual wearing mask entered convenience st...   \n",
       "..                                                ...   \n",
       "20  home invasion reported residence oak street ho...   \n",
       "60  delivery van broken making delivery residentia...   \n",
       "71  physical altercation occurred local park indiv...   \n",
       "14  crowded concert dispute erupted concertgoers s...   \n",
       "51  resident reported theft automobile car parked ...   \n",
       "\n",
       "                                                 stem  \\\n",
       "30  resid vacat home broken door intrud ransack in...   \n",
       "0   man report assault near downtown area state wa...   \n",
       "22  attempt breakin thwart resid mapl lane vigil n...   \n",
       "31  quiet suburban neighborhood burglar broke hous...   \n",
       "18  individu wear mask enter conveni store brandis...   \n",
       "..                                                ...   \n",
       "20  home invas report resid oak street homeown ret...   \n",
       "60  deliveri van broken make deliveri residenti ne...   \n",
       "71  physic alterc occur local park individu involv...   \n",
       "14  crowd concert disput erupt concertgo seat argu...   \n",
       "51  resid report theft automobil car park hous thi...   \n",
       "\n",
       "                                    all_preprocessors  \n",
       "30  resid vacat home broken door intrud ransack in...  \n",
       "0   man report assault near downtown area state wa...  \n",
       "22  attempt thwart resid mapl lane vigil neighbor ...  \n",
       "31  quiet suburban neighborhood burglar broke hous...  \n",
       "18  individu wear mask enter conveni store brandis...  \n",
       "..                                                ...  \n",
       "20  home invas report resid oak street homeown ret...  \n",
       "60  deliveri van broken make deliveri residenti ne...  \n",
       "71  physic alterc occur local park individu involv...  \n",
       "14  crowd concert disput erupt concertgo seat argu...  \n",
       "51  resid report theft automobil car park hous thi...  \n",
       "\n",
       "[80 rows x 7 columns]"
      ]
     },
     "execution_count": 11,
     "metadata": {},
     "output_type": "execute_result"
    }
   ],
   "source": [
    "mydata = mydata.drop_duplicates() # removal all duplicates\n",
    "mydata"
   ]
  },
  {
   "cell_type": "markdown",
   "id": "1b27186b-e656-4a80-91ea-e7b13057e8b8",
   "metadata": {},
   "source": [
    "**Convert the labels to numerica data if neccessary**"
   ]
  },
  {
   "cell_type": "code",
   "execution_count": 13,
   "id": "51d02204-577c-49d6-89f5-bb41c2109c43",
   "metadata": {},
   "outputs": [
    {
     "name": "stdout",
     "output_type": "stream",
     "text": [
      "y\n",
      "Break and Enter    16\n",
      "Assault            16\n",
      "Robbery            16\n",
      "Theft              16\n",
      "Theft from Auto    16\n",
      "Name: count, dtype: int64\n"
     ]
    }
   ],
   "source": [
    "#mydata['y'] = pd.factorize(mydata['y'])[0] # convert y col to numerical data if neccessary\n",
    "\n",
    "print(mydata.y.value_counts())"
   ]
  },
  {
   "cell_type": "markdown",
   "id": "82b1ad22-2642-416d-b14e-cc0b560565f8",
   "metadata": {},
   "source": [
    "**Data exploration, pre-processing and cleansing**"
   ]
  },
  {
   "cell_type": "code",
   "execution_count": 15,
   "id": "4e50170c-8e06-4e4f-82d7-e0d53c59cd03",
   "metadata": {},
   "outputs": [
    {
     "name": "stdout",
     "output_type": "stream",
     "text": [
      "                                                    X                y  \\\n",
      "30  while the residents were on vacation, their ho...  Break and Enter   \n",
      "0   a man reported an assault near the downtown ar...          Assault   \n",
      "22  an attempted break-in was thwarted at a reside...  Break and Enter   \n",
      "31  in a quiet suburban neighborhood, a burglar br...  Break and Enter   \n",
      "18  two individuals wearing masks entered a conven...          Robbery   \n",
      "\n",
      "        y_1                                              clean  \\\n",
      "30  Unknown  residents vacation home broken door intruders ...   \n",
      "0     Knife  man reported assault near downtown area stated...   \n",
      "22  Unknown  attempted breakin thwarted residence maple lan...   \n",
      "31  Unknown  quiet suburban neighborhood burglar broke hous...   \n",
      "18    Knife  individuals wearing masks entered convenience ...   \n",
      "\n",
      "                                            lemmatize  \\\n",
      "30  resident vacation home broken door intruder ra...   \n",
      "0   man reported assault near downtown area stated...   \n",
      "22  attempted breakin thwarted residence maple lan...   \n",
      "31  quiet suburban neighborhood burglar broke hous...   \n",
      "18  individual wearing mask entered convenience st...   \n",
      "\n",
      "                                                 stem  \\\n",
      "30  resid vacat home broken door intrud ransack in...   \n",
      "0   man report assault near downtown area state wa...   \n",
      "22  attempt breakin thwart resid mapl lane vigil n...   \n",
      "31  quiet suburban neighborhood burglar broke hous...   \n",
      "18  individu wear mask enter conveni store brandis...   \n",
      "\n",
      "                                    all_preprocessors  \n",
      "30  resid vacat home broken door intrud ransack in...  \n",
      "0   man report assault near downtown area state wa...  \n",
      "22  attempt thwart resid mapl lane vigil neighbor ...  \n",
      "31  quiet suburban neighborhood burglar broke hous...  \n",
      "18  individu wear mask enter conveni store brandis...  \n"
     ]
    },
    {
     "data": {
      "text/plain": [
       "(80, 7)"
      ]
     },
     "metadata": {},
     "output_type": "display_data"
    },
    {
     "data": {
      "text/plain": [
       "y\n",
       "Break and Enter    0.2\n",
       "Assault            0.2\n",
       "Robbery            0.2\n",
       "Theft              0.2\n",
       "Theft from Auto    0.2\n",
       "Name: count, dtype: float64"
      ]
     },
     "execution_count": 15,
     "metadata": {},
     "output_type": "execute_result"
    }
   ],
   "source": [
    "# take a look\n",
    "print(mydata.head())\n",
    "display(mydata.shape)\n",
    "mydata['y'].value_counts() / mydata.shape[0]"
   ]
  },
  {
   "cell_type": "markdown",
   "id": "7e02815d-5286-404a-95e4-32118660d4d5",
   "metadata": {},
   "source": [
    "**train test split**"
   ]
  },
  {
   "cell_type": "code",
   "execution_count": 17,
   "id": "c3477a02-8f40-4c02-9c28-0359e025c79a",
   "metadata": {},
   "outputs": [],
   "source": [
    "# Assign col X to X and col y to y\n",
    "X = mydata.X\n",
    "y = mydata.y\n",
    "\n",
    "X_train, X_test, y_train, y_test = train_test_split(X, y, test_size=0.20, random_state=42)\n"
   ]
  },
  {
   "cell_type": "markdown",
   "id": "75b6415f-cafa-4c55-8a23-dad7c6643688",
   "metadata": {},
   "source": [
    "**Feature generation**"
   ]
  },
  {
   "cell_type": "code",
   "execution_count": 19,
   "id": "45ef001b-9673-44be-86a6-cf8d781b0bdd",
   "metadata": {},
   "outputs": [],
   "source": [
    "# apply tokenization and clean the text using tfidf\n",
    "\n",
    "#vect_tfidf = TfidfVectorizer(preprocessor=clean)\n",
    "vect_tfidf = TfidfVectorizer(preprocessor=preprocessors)\n",
    "X_train_dtm = vect_tfidf.fit_transform(X_train)\n",
    "X_test_dtm = vect_tfidf.transform(X_test)"
   ]
  },
  {
   "cell_type": "markdown",
   "id": "3b5b0e63-6a8d-4bcb-9339-1090d525c621",
   "metadata": {},
   "source": [
    "**Model building**"
   ]
  },
  {
   "cell_type": "code",
   "execution_count": 21,
   "id": "2e7cafa7-6317-4c35-ad04-282e0ceeb264",
   "metadata": {},
   "outputs": [
    {
     "name": "stdout",
     "output_type": "stream",
     "text": [
      "CPU times: total: 0 ns\n",
      "Wall time: 1.04 ms\n"
     ]
    }
   ],
   "source": [
    "# Naive Bayes Model\n",
    "\n",
    "nb = MultinomialNB()\n",
    "%time nb.fit(X_train_dtm, y_train)\n",
    "nb_pred = nb.predict(X_test_dtm)"
   ]
  },
  {
   "cell_type": "code",
   "execution_count": 22,
   "id": "f8976076-e5d1-432a-a2a3-8c5cb5dde7f0",
   "metadata": {},
   "outputs": [
    {
     "name": "stdout",
     "output_type": "stream",
     "text": [
      "CPU times: total: 0 ns\n",
      "Wall time: 17.9 ms\n"
     ]
    }
   ],
   "source": [
    "# Logistic Regression\n",
    "\n",
    "logreg = LogisticRegression(class_weight=\"balanced\")\n",
    "%time logreg.fit(X_train_dtm, y_train)\n",
    "logreg_pred = logreg.predict(X_test_dtm)\n",
    "logreg_pred_prob = logreg.predict_proba(X_test_dtm)[:,1]\n"
   ]
  },
  {
   "cell_type": "code",
   "execution_count": 23,
   "id": "ec1bc0b1-e907-4b15-ade9-accde19dfe85",
   "metadata": {},
   "outputs": [],
   "source": [
    "# knn\n",
    "\n",
    "#knn = KNeighborsClassifier(n_neighbors=30)\n",
    "knn = KNeighborsClassifier()\n",
    "knn.fit(X_train_dtm, y_train)\n",
    "knn_pred = knn.predict(X_test_dtm)\n"
   ]
  },
  {
   "cell_type": "code",
   "execution_count": 24,
   "id": "2078e2be-5b4e-4336-8c0c-f061d7239f59",
   "metadata": {},
   "outputs": [],
   "source": [
    "# Linear SVC\n",
    "\n",
    "svm = LinearSVC(dual=False)\n",
    "svm.fit(X_train_dtm, y_train)\n",
    "svm_pred = svm.predict(X_test_dtm)\n"
   ]
  },
  {
   "cell_type": "code",
   "execution_count": 25,
   "id": "95e6c60e-873b-4a44-9163-c14f52ae92b7",
   "metadata": {},
   "outputs": [],
   "source": [
    "# Decision tree\n",
    "\n",
    "dt = DecisionTreeClassifier()\n",
    "dt.fit(X_train_dtm, y_train)\n",
    "dt_pred = dt.predict(X_test_dtm)\n"
   ]
  },
  {
   "cell_type": "code",
   "execution_count": 26,
   "id": "161fd598-abbc-4062-8597-bb73d8ace1d9",
   "metadata": {},
   "outputs": [
    {
     "name": "stdout",
     "output_type": "stream",
     "text": [
      "Fitting 5 folds for each of 36 candidates, totalling 180 fits\n",
      "Best Parameters: {'max_depth': 10, 'min_samples_split': 5, 'n_estimators': 200}\n"
     ]
    }
   ],
   "source": [
    "# Use Grid Search to find the best estimator for Random Forest\n",
    "\n",
    "rf = RandomForestClassifier(random_state=42)\n",
    "param_grid = {'n_estimators': [50, 100, 200],\n",
    "              'max_depth': [None, 10, 20, 30],\n",
    "              'min_samples_split': [2, 5, 10]\n",
    "             }\n",
    "grid_search = GridSearchCV(estimator=rf, param_grid=param_grid, cv=5, n_jobs=-1, verbose=2)\n",
    "grid_search.fit(X_train_dtm, y_train)\n",
    "best_rf = grid_search.best_estimator_\n",
    "rf_pred = best_rf.predict(X_test_dtm)\n",
    "best_params = grid_search.best_params_\n",
    "print(\"Best Parameters:\", best_params)\n"
   ]
  },
  {
   "cell_type": "code",
   "execution_count": 27,
   "id": "3d7a34a2-1968-4ad7-bad9-017df618ad80",
   "metadata": {},
   "outputs": [],
   "source": [
    "# Random forest ensemble learning\n",
    "\n",
    "rf = RandomForestClassifier(**best_params, random_state=42) # using the best params found in Grid SearchCV\n",
    "rf.fit(X_train_dtm, y_train)\n",
    "rf_pred = rf.predict(X_test_dtm)\n"
   ]
  },
  {
   "cell_type": "code",
   "execution_count": 28,
   "id": "b5c88374-a6fa-4b96-a0e9-b0f3315362e8",
   "metadata": {},
   "outputs": [],
   "source": [
    "# AdaBoost\n",
    "\n",
    "base_estimator = DecisionTreeClassifier(max_depth=1)\n",
    "ada = AdaBoostClassifier(estimator=base_estimator, n_estimators=50, random_state=42)\n",
    "ada.fit(X_train_dtm, y_train)\n",
    "ada_pred = ada.predict(X_test_dtm)\n"
   ]
  },
  {
   "cell_type": "markdown",
   "id": "d84d16a6-53e7-4f0a-ab39-39531260e195",
   "metadata": {},
   "source": [
    "**Semi-supervised learning**"
   ]
  },
  {
   "cell_type": "code",
   "execution_count": 30,
   "id": "01802b48-a15f-4795-891c-657410285a90",
   "metadata": {},
   "outputs": [
    {
     "name": "stderr",
     "output_type": "stream",
     "text": [
      "C:\\Users\\zsnow\\anaconda3\\Lib\\site-packages\\sklearn\\semi_supervised\\_self_training.py:214: UserWarning: y contains no unlabeled samples\n",
      "  warnings.warn(\"y contains no unlabeled samples\", UserWarning)\n"
     ]
    }
   ],
   "source": [
    "# create the self learning classifier using the logreg model\n",
    "\n",
    "base_classifier = LogisticRegression()\n",
    "self_training_model = SelfTrainingClassifier(base_classifier)\n",
    "\n",
    "# train the model\n",
    "self_training_model.fit(X_train_dtm, y_train)\n",
    "self_training_model_pred = self_training_model.predict(X_test_dtm)"
   ]
  },
  {
   "cell_type": "markdown",
   "id": "8fd62f3d-5899-4134-95bd-80428094cd61",
   "metadata": {},
   "source": [
    "**Neural Net**"
   ]
  },
  {
   "cell_type": "markdown",
   "id": "610f3b98-5433-4626-8bf3-fdd6de13c6d6",
   "metadata": {},
   "source": [
    "**Evaluate models**"
   ]
  },
  {
   "cell_type": "code",
   "execution_count": null,
   "id": "47524129-ed83-4dcc-8d38-b72146c4d697",
   "metadata": {},
   "outputs": [
    {
     "name": "stderr",
     "output_type": "stream",
     "text": [
      "C:\\Users\\zsnow\\anaconda3\\Lib\\site-packages\\sklearn\\metrics\\_classification.py:1469: UndefinedMetricWarning: Precision and F-score are ill-defined and being set to 0.0 in labels with no predicted samples. Use `zero_division` parameter to control this behavior.\n",
      "  _warn_prf(average, modifier, msg_start, len(result))\n",
      "C:\\Users\\zsnow\\anaconda3\\Lib\\site-packages\\sklearn\\metrics\\_classification.py:1469: UndefinedMetricWarning: Precision and F-score are ill-defined and being set to 0.0 in labels with no predicted samples. Use `zero_division` parameter to control this behavior.\n",
      "  _warn_prf(average, modifier, msg_start, len(result))\n",
      "C:\\Users\\zsnow\\anaconda3\\Lib\\site-packages\\sklearn\\metrics\\_classification.py:1469: UndefinedMetricWarning: Precision and F-score are ill-defined and being set to 0.0 in labels with no predicted samples. Use `zero_division` parameter to control this behavior.\n",
      "  _warn_prf(average, modifier, msg_start, len(result))\n"
     ]
    }
   ],
   "source": [
    "print(\"NB\\n\", classification_report(y_test, nb_pred))\n",
    "print(\"Logistic Regression\\n\", classification_report(y_test, logreg_pred))\n",
    "print(\"KNN\\n\", classification_report(y_test, knn_pred))\n",
    "print(\"SVM\\n\", classification_report(y_test, svm_pred))\n",
    "print(\"Decision Tree\\n\", classification_report(y_test, dt_pred))\n",
    "print(\"Random Forest\\n\", classification_report(y_test, rf_pred))\n",
    "print(\"AdaBoost\\n\", classification_report(y_test, ada_pred))\n",
    "print(\"semi-supervised\\n\", classification_report(y_test, self_training_model_pred))\n",
    "\n"
   ]
  },
  {
   "cell_type": "code",
   "execution_count": null,
   "id": "0e8e2c55-5689-4f09-8e47-f4a356a1598b",
   "metadata": {
    "scrolled": true
   },
   "outputs": [],
   "source": [
    "# example on how to store the values of a classification report to a dict\n",
    "nb_report = classification_report(y_test, nb_pred, output_dict=True)\n",
    "nb_f1 = nb_report['weighted avg']['f1-score']\n",
    "logreg_report =classification_report(y_test, logreg_pred, output_dict=True)\n",
    "logreg_f1 = logreg_report['weighted avg']['f1-score']\n",
    "knn_report = classification_report(y_test, knn_pred, output_dict=True)\n",
    "knn_f1 = knn_report['weighted avg']['f1-score']\n",
    "dt_report = classification_report(y_test, dt_pred, output_dict=True)\n",
    "dt_f1 = dt_report['weighted avg']['f1-score']\n",
    "rf_report = classification_report(y_test, rf_pred, output_dict=True)\n",
    "rf_f1 = rf_report['weighted avg']['f1-score']\n",
    "ada_report = classification_report(y_test, ada_pred, output_dict=True)\n",
    "ada_f1 = ada_report['weighted avg']['f1-score']\n",
    "self_training_model_report = classification_report(y_test, self_training_model_pred, output_dict=True)\n",
    "self_training_model_f1 = self_training_model_report['weighted avg']['f1-score']\n",
    "\n",
    "scores = {\"Model\": [\"NB\", \"Logistic Regression\", \"KNN\", \"Decision Tree\", \"Random Forrest\", \"ADA\", \"Self Training\"],\\\n",
    "          \"Name\": [nb, logreg, knn, dt, rf, ada, self_training_model], \"F1-Score\": [nb_f1,logreg_f1,\\\n",
    "                                                                                  knn_f1,dt_f1,rf_f1,\\\n",
    "                                                                                  ada_f1,self_training_model_f1]}\n",
    "df_scores = pd.DataFrame(scores)\n",
    "df_scores\n",
    "# it can be added to a df too\n"
   ]
  },
  {
   "cell_type": "code",
   "execution_count": null,
   "id": "402cb524-15ce-46cc-8cb2-296695de0a4e",
   "metadata": {},
   "outputs": [],
   "source": [
    "# Select the model with the highest F1 score \n",
    "best_model_name = df_scores.loc[df_scores['F1-Score'].idxmax()]['Name'] \n",
    "best_model_name"
   ]
  },
  {
   "cell_type": "markdown",
   "id": "488f9b3e-350a-4eac-b34d-9846ade2f5bf",
   "metadata": {},
   "source": [
    "**Get the scores for the tokens**"
   ]
  },
  {
   "cell_type": "markdown",
   "id": "442ebb04-4e00-46fe-b62c-14e56cbdb70d",
   "metadata": {},
   "source": [
    "**Test example**"
   ]
  },
  {
   "cell_type": "code",
   "execution_count": null,
   "id": "5781c01f-4a99-4ce1-b4d3-dd199682498b",
   "metadata": {},
   "outputs": [],
   "source": [
    "test_data = {\"X\": [\"I arrived home and found that my door lock was damage. \", \"I was walking and someone punched me. I called the police.\",\"I came back to my car after shopping and found that the door was damaged. My wallet left in the car was stolen.\",\"a man came into my store and point a knife at me. he asked me to give him all the money.\"]}\n",
    "pd_test_data = pd.DataFrame(test_data)\n",
    "pd_test_data = pd_test_data.X\n",
    "pd_test_data"
   ]
  },
  {
   "cell_type": "code",
   "execution_count": null,
   "id": "929ae995-4418-422d-bda7-9fd81d7098c8",
   "metadata": {},
   "outputs": [],
   "source": [
    "# transform the data\n",
    "test_dtm = vect_tfidf.transform(pd_test_data)\n",
    "pred = best_model_name.predict(test_dtm)\n",
    "pred"
   ]
  },
  {
   "cell_type": "code",
   "execution_count": null,
   "id": "d05813c0-4da6-44bf-916d-873595f7d6c7",
   "metadata": {},
   "outputs": [],
   "source": [
    "user_input = st.text_input(\"Enter your text here:\")\n",
    "st.write(user_input)\n"
   ]
  }
 ],
 "metadata": {
  "kernelspec": {
   "display_name": "Python 3 (ipykernel)",
   "language": "python",
   "name": "python3"
  },
  "language_info": {
   "codemirror_mode": {
    "name": "ipython",
    "version": 3
   },
   "file_extension": ".py",
   "mimetype": "text/x-python",
   "name": "python",
   "nbconvert_exporter": "python",
   "pygments_lexer": "ipython3",
   "version": "3.11.7"
  }
 },
 "nbformat": 4,
 "nbformat_minor": 5
}
